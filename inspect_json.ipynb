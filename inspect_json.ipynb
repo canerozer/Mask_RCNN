{
 "cells": [
  {
   "cell_type": "code",
   "execution_count": 259,
   "metadata": {},
   "outputs": [],
   "source": [
    "import json\n",
    "import numpy as np\n",
    "import skimage.io as io\n",
    "import matplotlib.pyplot as plt\n",
    "import matplotlib.lines as mlines\n",
    "import datetime"
   ]
  },
  {
   "cell_type": "code",
   "execution_count": 248,
   "metadata": {},
   "outputs": [],
   "source": [
    "# json_dir = \"Datasets/coco/annotations/instances_minival2014 (copy).json\"\n",
    "json_dir = \"Datasets/coco/annotations/instances_train2014 (copy).json\"\n",
    "# json_dir = \"Datasets/coco/annotations/instances_valminusminival2014 (copy).json\"\n",
    "# json_dir = \"Datasets/coco/annotations/instances_val2014.json\"\n",
    "\n",
    "\n",
    "minival2014 = json.load(open(json_dir))"
   ]
  },
  {
   "cell_type": "code",
   "execution_count": 252,
   "metadata": {},
   "outputs": [],
   "source": [
    "# Adds the class\n",
    "\n",
    "minival2014['categories'].append({'id': 91, 'name': 'fish', 'supercategory': 'animal'})"
   ]
  },
  {
   "cell_type": "code",
   "execution_count": 257,
   "metadata": {},
   "outputs": [
    {
     "data": {
      "text/plain": [
       "{'coco_url': 'http://images.cocodataset.org/train2014/COCO_train2014_000000057870.jpg',\n",
       " 'date_captured': '2013-11-14 16:28:13',\n",
       " 'file_name': 'COCO_train2014_000000057870.jpg',\n",
       " 'flickr_url': 'http://farm4.staticflickr.com/3153/2970773875_164f0c0b83_z.jpg',\n",
       " 'height': 480,\n",
       " 'id': 57870,\n",
       " 'license': 5,\n",
       " 'width': 640}"
      ]
     },
     "execution_count": 257,
     "metadata": {},
     "output_type": "execute_result"
    }
   ],
   "source": [
    "# Shows the added class at the bottom.\n",
    "\n",
    "# minival2014['categories'].pop()\n",
    "minival2014['images'][0]"
   ]
  },
  {
   "cell_type": "code",
   "execution_count": 272,
   "metadata": {},
   "outputs": [],
   "source": [
    "# Images in segmentation directory are zero indexed and original image directory is one indexed.\n",
    "\n",
    "image_dir = \"/home/mspr/Desktop/Mask_RCNN/Datasets/VOT2016/train/fish1/00000001.jpg\"\n",
    "seg_image_dir = \"Datasets/VOT2016/GT_segmentation/fish1/00000000.png\"\n",
    "\n",
    "# Date captured\n",
    "dt = str(datetime.datetime.now())\n",
    "date, time = dt.split()\n",
    "time = time.split(\".\")[0]\n",
    "date_captured = date+\" \"+time\n",
    "\n",
    "# Copying to the COCO Dataset Directory in an appropiate format.\n",
    "# Filename and ID will be collected from here.\n",
    "target_dataset_dir = \"Datasets/coco/train2014/\"\n",
    "idx = 600000\n",
    "file_name = \"COCO_train2014_000000\"+str(idx)+\".jpg\"\n",
    "image = io.imread(image_dir)\n",
    "io.imsave(target_dataset_dir+file_name, image)\n",
    "\n",
    "# License tag at random\n",
    "license = np.random.randint(8)\n",
    "\n",
    "# Getting image width and height\n",
    "height = image.shape[1]\n",
    "width = image.shape[0]\n",
    "\n",
    "# URL Information is unknown\n",
    "url = 'n/a'\n",
    "minival2014['images'].append({'date_captured': date_captured, 'file_name': file_name, \n",
    "                              'height': height, 'id': idx, 'license': license, 'flickr_url': url, \n",
    "                              'width': width, 'coco_url': url})"
   ]
  },
  {
   "cell_type": "code",
   "execution_count": 277,
   "metadata": {},
   "outputs": [
    {
     "data": {
      "text/plain": [
       "{'area': 54652.9556,\n",
       " 'bbox': [116.95, 305.86, 285.3, 266.03],\n",
       " 'category_id': 58,\n",
       " 'id': 86,\n",
       " 'image_id': 480023,\n",
       " 'iscrowd': 0,\n",
       " 'segmentation': [[312.29,\n",
       "   562.89,\n",
       "   402.25,\n",
       "   511.49,\n",
       "   400.96,\n",
       "   425.38,\n",
       "   398.39,\n",
       "   372.69,\n",
       "   388.11,\n",
       "   332.85,\n",
       "   318.71,\n",
       "   325.14,\n",
       "   295.58,\n",
       "   305.86,\n",
       "   269.88,\n",
       "   314.86,\n",
       "   258.31,\n",
       "   337.99,\n",
       "   217.19,\n",
       "   321.29,\n",
       "   182.49,\n",
       "   343.13,\n",
       "   141.37,\n",
       "   348.27,\n",
       "   132.37,\n",
       "   358.55,\n",
       "   159.36,\n",
       "   377.83,\n",
       "   116.95,\n",
       "   421.53,\n",
       "   167.07,\n",
       "   499.92,\n",
       "   232.61,\n",
       "   560.32,\n",
       "   300.72,\n",
       "   571.89]]}"
      ]
     },
     "execution_count": 277,
     "metadata": {},
     "output_type": "execute_result"
    }
   ],
   "source": [
    "# Annotations\n",
    "bbox_info_file = \"/home/mspr/Desktop/Mask_RCNN/Datasets/VOT2016/train/fish1/groundtruth.txt\"\n",
    "with open(bbox_info_file) as f:\n",
    "    all_annotations = f.read().split()\n",
    "#     print(all_annotations)\n",
    "minival2014['annotations'][0]"
   ]
  },
  {
   "cell_type": "code",
   "execution_count": 244,
   "metadata": {},
   "outputs": [],
   "source": [
    "# Storing the data in memory and then writes them into a file. \n",
    "\n",
    "data = json.dumps(minival2014)\n",
    "with open(\"Datasets/coco/annotations/instances_train2014 (copy).json\",\"w\") as f:\n",
    "    f.write(data)\n"
   ]
  },
  {
   "cell_type": "code",
   "execution_count": 215,
   "metadata": {},
   "outputs": [
    {
     "name": "stdout",
     "output_type": "stream",
     "text": [
      "dict_keys(['area', 'image_id', 'segmentation', 'iscrowd', 'bbox', 'id', 'category_id'])\n"
     ]
    }
   ],
   "source": [
    "counter = 0\n",
    "for i in range(5000):\n",
    "    x = minival2014['annotations'][i].keys()\n",
    "print(x)\n"
   ]
  },
  {
   "cell_type": "code",
   "execution_count": 34,
   "metadata": {},
   "outputs": [],
   "source": [
    "json_dir = \"Datasets/coco/annotations/instances_valminusminival2014 (copy).json\"\n",
    "train2014 = json.load(open(json_dir))"
   ]
  },
  {
   "cell_type": "code",
   "execution_count": 35,
   "metadata": {},
   "outputs": [
    {
     "data": {
      "text/plain": [
       "dict_keys(['info', 'annotations', 'images', 'type', 'licenses', 'categories'])"
      ]
     },
     "execution_count": 35,
     "metadata": {},
     "output_type": "execute_result"
    }
   ],
   "source": [
    "train2014.keys()"
   ]
  },
  {
   "cell_type": "code",
   "execution_count": 17,
   "metadata": {},
   "outputs": [
    {
     "data": {
      "text/plain": [
       "[0, 421.09, 154.53, 208.61]"
      ]
     },
     "execution_count": 17,
     "metadata": {},
     "output_type": "execute_result"
    }
   ],
   "source": [
    "minival2014['annotations'][5]['bbox']"
   ]
  },
  {
   "cell_type": "code",
   "execution_count": 18,
   "metadata": {},
   "outputs": [
    {
     "name": "stdout",
     "output_type": "stream",
     "text": [
      "80\n"
     ]
    }
   ],
   "source": [
    "print (len(minival2014['annotations'][5]['segmentation'][0]))"
   ]
  },
  {
   "cell_type": "code",
   "execution_count": 19,
   "metadata": {},
   "outputs": [
    {
     "name": "stdout",
     "output_type": "stream",
     "text": [
      "{'url': 'http://farm7.staticflickr.com/6116/6255196340_da26cf2c9e_z.jpg', 'file_name': 'COCO_val2014_000000397133.jpg', 'id': 397133, 'height': 427, 'width': 640, 'date_captured': '2013-11-14 17:02:52', 'license': 4}\n"
     ]
    }
   ],
   "source": [
    "print (minival2014['images'][0])"
   ]
  },
  {
   "cell_type": "code",
   "execution_count": 170,
   "metadata": {},
   "outputs": [
    {
     "name": "stdout",
     "output_type": "stream",
     "text": [
      "[{'area': 702.10575, 'image_id': 289343, 'segmentation': [[510.66, 423.01, 511.72, 420.03, 510.45, 416, 510.34, 413.02, 510.77, 410.26, 510.77, 407.5, 510.34, 405.16, 511.51, 402.83, 511.41, 400.49, 510.24, 398.16, 509.39, 397.31, 504.61, 399.22, 502.17, 399.64, 500.89, 401.66, 500.47, 402.08, 499.09, 401.87, 495.79, 401.98, 490.59, 401.77, 488.79, 401.77, 485.39, 398.58, 483.9, 397.31, 481.56, 396.35, 478.48, 395.93, 476.68, 396.03, 475.4, 396.77, 473.92, 398.79, 473.28, 399.96, 473.49, 401.87, 474.56, 403.47, 473.07, 405.59, 473.39, 407.71, 476.68, 409.41, 479.23, 409.73, 481.56, 410.69, 480.4, 411.85, 481.35, 414.93, 479.86, 418.65, 477.32, 420.03, 476.04, 422.58, 479.02, 422.58, 480.29, 423.01, 483.79, 419.93, 486.66, 416.21, 490.06, 415.57, 492.18, 416.85, 491.65, 420.24, 492.82, 422.9, 493.56, 424.39, 496.43, 424.6, 498.02, 423.01, 498.13, 421.31, 497.07, 420.03, 497.07, 415.15, 496.33, 414.51, 501.1, 411.96, 502.06, 411.32, 503.02, 415.04, 503.33, 418.12, 501.1, 420.24, 498.98, 421.63, 500.47, 424.39, 505.03, 423.32, 506.2, 421.31, 507.69, 419.5, 506.31, 423.32, 510.03, 423.01, 510.45, 423.01]], 'iscrowd': 0, 'bbox': [473.07, 395.93, 38.65, 28.67], 'id': 1768, 'category_id': 18}, {'area': 27718.4763, 'image_id': 61471, 'segmentation': [[289.74, 443.39, 302.29, 445.32, 308.09, 427.94, 310.02, 416.35, 304.23, 405.73, 300.14, 385.01, 298.23, 359.52, 295.04, 365.89, 282.3, 362.71, 275.29, 358.25, 277.2, 346.14, 280.39, 339.13, 284.85, 339.13, 291.22, 338.49, 293.77, 335.95, 295.04, 326.39, 297.59, 317.47, 289.94, 309.82, 287.4, 288.79, 286.12, 275.41, 284.21, 271.59, 279.11, 276.69, 275.93, 275.41, 272.1, 271.59, 274.01, 267.77, 275.93, 265.22, 277.84, 264.58, 282.3, 251.2, 293.77, 238.46, 307.79, 221.25, 314.79, 211.69, 325.63, 205.96, 338.37, 205.32, 347.29, 205.32, 353.03, 205.32, 361.31, 200.23, 367.95, 202.02, 372.27, 205.8, 382.52, 215.51, 388.46, 225.22, 399.25, 235.47, 399.25, 252.74, 390.08, 247.34, 386.84, 247.34, 388.46, 256.52, 397.09, 268.93, 413.28, 298.6, 421.91, 356.87, 424.07, 391.4, 422.99, 409.74, 420.29, 428.63, 415.43, 433.48, 407.88, 414.6, 405.72, 391.94, 401.41, 404.89, 394.39, 420.54, 391.69, 435.64, 391.15, 447.51, 387.38, 461, 384.68, 480, 354.47, 477.73, 363.1, 433.48, 370.65, 405.43, 369.03, 394.64, 361.48, 398.95, 355.54, 403.81, 351.77, 403.81, 343.68, 403.27, 339.36, 402.19, 335.58, 404.89, 333.42, 411.9, 332.34, 416.76, 333.42, 425.93, 334.5, 430.79, 336.12, 435.64, 321.01, 464.78, 316.16, 468.01, 307.53, 472.33, 297.28, 472.33, 290.26, 471.25, 285.94, 472.33, 283.79, 464.78, 280.01, 462.62, 284.33, 454.53, 285.94, 453.45, 282.71, 448.59, 288.64, 444.27, 291.88, 443.74]], 'iscrowd': 0, 'bbox': [272.1, 200.23, 151.97, 279.77], 'id': 1773, 'category_id': 18}]\n"
     ]
    }
   ],
   "source": [
    "print (minival2014['annotations'][:2])"
   ]
  },
  {
   "cell_type": "code",
   "execution_count": null,
   "metadata": {},
   "outputs": [],
   "source": []
  },
  {
   "cell_type": "code",
   "execution_count": null,
   "metadata": {},
   "outputs": [],
   "source": []
  }
 ],
 "metadata": {
  "kernelspec": {
   "display_name": "Python 3",
   "language": "python",
   "name": "python3"
  },
  "language_info": {
   "codemirror_mode": {
    "name": "ipython",
    "version": 3
   },
   "file_extension": ".py",
   "mimetype": "text/x-python",
   "name": "python",
   "nbconvert_exporter": "python",
   "pygments_lexer": "ipython3",
   "version": "3.5.2"
  }
 },
 "nbformat": 4,
 "nbformat_minor": 2
}
