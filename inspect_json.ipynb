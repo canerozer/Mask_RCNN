{
 "cells": [
  {
   "cell_type": "code",
   "execution_count": 1,
   "metadata": {},
   "outputs": [
    {
     "name": "stderr",
     "output_type": "stream",
     "text": [
      "/usr/local/lib/python3.5/dist-packages/h5py/__init__.py:36: FutureWarning: Conversion of the second argument of issubdtype from `float` to `np.floating` is deprecated. In future, it will be treated as `np.float64 == np.dtype(float).type`.\n",
      "  from ._conv import register_converters as _register_converters\n"
     ]
    }
   ],
   "source": [
    "import json\n",
    "import numpy as np\n",
    "import skimage.io as io\n",
    "import matplotlib.pyplot as plt\n",
    "import matplotlib.lines as mlines\n",
    "import os\n",
    "from pycocotools import coco\n",
    "import xml.etree.ElementTree as ET\n",
    "import xml\n",
    "from pycocotools import mask as comask\n",
    "import cv2\n",
    "from utils import DateCaptured, coco_bbox_creator, iou_calculator, mask2poly, binary_mask_to_rle\n",
    "import datetime\n",
    "import itertools\n",
    "# import csv ozan changed"
   ]
  },
  {
   "cell_type": "code",
   "execution_count": 2,
   "metadata": {},
   "outputs": [],
   "source": [
    "### CATEGORY INFORMATION\n",
    "\n",
    "# Add the name of the folders inside the dataset and\n",
    "# assign some label id. Start iding from 91.\n",
    "\n",
    "dict_of_categories = {'face': 91}"
   ]
  },
  {
   "cell_type": "code",
   "execution_count": 3,
   "metadata": {},
   "outputs": [],
   "source": [
    "### DATASET INFORMATION\n",
    "\n",
    "# Enter the original/custom JSON file to be used.\n",
    "# I used the original train2014 JSON file containing\n",
    "# the instances.\n",
    "\n",
    "# json_dir = \"Datasets/coco/annotations_old/instances_train2014.json\"\n",
    "\n",
    "# for the purpose of creating validation images json\n",
    "# json_dir = \"Datasets/coco/annotations_old/instances_val2014.json\" \n",
    "\n",
    "# for the purpose of creating testing images json\n",
    "json_dir = \"Datasets/coco/annotations_old/instances_minival2014.json\" \n",
    "\n",
    "### For viewing the content of the new json file. ###\n",
    "# json_dir = \"Datasets/coco/annotations/instances_train2014.json\"\n",
    "\n",
    "### minival2014 will become the main dictionary ###\n",
    "minival2014 = json.load(open(json_dir))"
   ]
  },
  {
   "cell_type": "code",
   "execution_count": 4,
   "metadata": {},
   "outputs": [],
   "source": [
    "### CLEARING THE DATASET\n",
    "# Use that if you only going to make a dataset of your own.\n",
    "# If you are going to append the images, this operation is not necessary.\n",
    "\n",
    "minival2014['images'] = []\n",
    "minival2014['annotations'] = []\n",
    "minival2014['categories'] = []"
   ]
  },
  {
   "cell_type": "code",
   "execution_count": 5,
   "metadata": {},
   "outputs": [],
   "source": [
    "# Viewing the number of instances per class and gathering some statistics about them.\n",
    "# labels = np.zeros((91, ), dtype=np.int32)\n",
    "# for annotation in minival2014['annotations']:\n",
    "#     labels[annotation['category_id']] += 1\n",
    "# used_label_ids = np.where(labels!=0)\n",
    "# ex_labels = labels[used_label_ids]\n",
    "# print(ex_labels)\n",
    "# print(\"Average instances per label: {}\".format(sum(ex_labels)/81))\n",
    "# print(\"Maximum instances per label: {}\".format(max(ex_labels)))\n",
    "# print(\"Minimum instances per label: {}\".format(min(ex_labels)))"
   ]
  },
  {
   "cell_type": "code",
   "execution_count": 6,
   "metadata": {},
   "outputs": [],
   "source": [
    "### APPENDING CLASSES TO THE CATEGORIES\n",
    "\n",
    "### For viewing the categories inside the JSON file.\n",
    "# minival2014['categories']\n",
    "\n",
    "# Add the classes based on to the dict_of_categories\n",
    "# Below shows an example for adding the face class to the main dictionary. \n",
    "\n",
    "minival2014['categories'].append({'id': 91, 'name': 'face', 'supercategory': 'person'})\n",
    "\n"
   ]
  },
  {
   "cell_type": "code",
   "execution_count": 7,
   "metadata": {},
   "outputs": [],
   "source": [
    "# Some functions to be used:\n",
    "def isjpg(string):\n",
    "    if string[-4:]==\".jpg\":\n",
    "        return True \n",
    "    \n",
    "def ispng(string):\n",
    "    if string[-4:]==\".png\":\n",
    "        return True\n",
    "    \n",
    "def save_bboxes(image_name, bbox_coor):\n",
    "    with open('img_bbox.txt','a+') as file:\n",
    "        file.write(str(image_name)+','+str(bbox_coor[0])+','+str(bbox_coor[1])+','+str(bbox_coor[2])+','+str(bbox_coor[3])+'\\n')\n",
    "\n",
    "def xml_retreiver(tree_object, key_name):\n",
    "    for iterator in tree_object.iter(key_name):\n",
    "        return iterator.text"
   ]
  },
  {
   "cell_type": "code",
   "execution_count": 9,
   "metadata": {},
   "outputs": [],
   "source": [
    "# Storing the data in memory and then writes them into a file. \n",
    "\n",
    "# from decimal import Decimal\n",
    "from json import encoder\n",
    "encoder.FLOAT_REPR = lambda o: format(o, '.2f')\n",
    "\n",
    "class MyEncoder(json.JSONEncoder):\n",
    "    def default(self, obj):\n",
    "        if isinstance(obj, np.integer):\n",
    "            return int(obj)\n",
    "        elif isinstance(obj, np.floating):\n",
    "            return float(obj)\n",
    "        elif isinstance(obj, np.ndarray):\n",
    "            return obj.tolist()\n",
    "        else:\n",
    "            return super(MyEncoder, self).default(obj)\n",
    "\n",
    "# with open(\"Datasets/coco/annotations/instances_train2014.json\",\"w\") as f:\n",
    "    \n",
    "with open(\"Datasets/coco/annotations/instances_minival2014.json\",\"w\") as f:\n",
    "    data = json.dumps(minival2014, cls=MyEncoder, indent=4)\n",
    "    f.write(data)\n"
   ]
  },
  {
   "cell_type": "code",
   "execution_count": null,
   "metadata": {},
   "outputs": [],
   "source": []
  }
 ],
 "metadata": {
  "kernelspec": {
   "display_name": "Python 3",
   "language": "python",
   "name": "python3"
  },
  "language_info": {
   "codemirror_mode": {
    "name": "ipython",
    "version": 3
   },
   "file_extension": ".py",
   "mimetype": "text/x-python",
   "name": "python",
   "nbconvert_exporter": "python",
   "pygments_lexer": "ipython3",
   "version": "3.5.2"
  }
 },
 "nbformat": 4,
 "nbformat_minor": 2
}
